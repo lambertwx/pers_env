{
 "cells": [
  {
   "cell_type": "markdown",
   "metadata": {},
   "source": [
    "# Base template for all my notebooks"
   ]
  },
  {
   "cell_type": "code",
   "execution_count": 1,
   "metadata": {},
   "outputs": [],
   "source": [
    "import glob\n",
    "import matplotlib as mpl\n",
    "import numpy as np\n",
    "import os\n",
    "import pandas as pd\n",
    "import pdb\n",
    "import regex as re\n",
    "import sys\n",
    "\n",
    "from collections import namedtuple \n",
    "from matplotlib import pyplot as plt\n",
    "from PIL import Image\n",
    "from tqdm import tqdm\n",
    "from skimage.io import imread_collection\n",
    "#from sklearn.model_selection import train_test_split\n",
    "import yaml"
   ]
  },
  {
   "cell_type": "code",
   "execution_count": 2,
   "metadata": {},
   "outputs": [
    {
     "data": {
      "text/plain": [
       "['',\n",
       " '/Users/lambert/work/clarifai',\n",
       " '/Users/lambert/pubSDKs/private-clarifai-python',\n",
       " '/Users/lambert/work/notebooks/personal/lambert',\n",
       " '/Users/lambert/virtualenv/v1/lib/python27.zip',\n",
       " '/Users/lambert/virtualenv/v1/lib/python2.7',\n",
       " '/Users/lambert/virtualenv/v1/lib/python2.7/plat-darwin',\n",
       " '/Users/lambert/virtualenv/v1/lib/python2.7/plat-mac',\n",
       " '/Users/lambert/virtualenv/v1/lib/python2.7/plat-mac/lib-scriptpackages',\n",
       " '/Users/lambert/virtualenv/v1/lib/python2.7/lib-tk',\n",
       " '/Users/lambert/virtualenv/v1/lib/python2.7/lib-old',\n",
       " '/Users/lambert/virtualenv/v1/lib/python2.7/lib-dynload',\n",
       " '/System/Library/Frameworks/Python.framework/Versions/2.7/lib/python2.7',\n",
       " '/System/Library/Frameworks/Python.framework/Versions/2.7/lib/python2.7/plat-darwin',\n",
       " '/System/Library/Frameworks/Python.framework/Versions/2.7/lib/python2.7/lib-tk',\n",
       " '/System/Library/Frameworks/Python.framework/Versions/2.7/lib/python2.7/plat-mac',\n",
       " '/System/Library/Frameworks/Python.framework/Versions/2.7/lib/python2.7/plat-mac/lib-scriptpackages',\n",
       " '/Users/lambert/virtualenv/v1/lib/python2.7/site-packages',\n",
       " '/Users/lambert/virtualenv/v1/lib/python2.7/site-packages/IPython/extensions',\n",
       " '/Users/lambert/.ipython']"
      ]
     },
     "execution_count": 2,
     "metadata": {},
     "output_type": "execute_result"
    }
   ],
   "source": [
    "sys.path"
   ]
  },
  {
   "cell_type": "code",
   "execution_count": null,
   "metadata": {},
   "outputs": [],
   "source": [
    "from utils.display.videofig import videofig, redraw_fn"
   ]
  },
  {
   "cell_type": "code",
   "execution_count": null,
   "metadata": {},
   "outputs": [],
   "source": [
    "%matplotlib notebook"
   ]
  },
  {
   "cell_type": "code",
   "execution_count": null,
   "metadata": {},
   "outputs": [],
   "source": [
    "from IPython.core.display import HTML\n",
    "display(HTML(\"<style>.container { width:100% !important; }</style>\"))"
   ]
  },
  {
   "cell_type": "code",
   "execution_count": null,
   "metadata": {},
   "outputs": [],
   "source": [
    "def my_draw(f, seq):\n",
    "    img = seq[f]\n",
    "    fullpath = seq._files[f]\n",
    "    title = \"{} - {} w x {} h\".format(os.path.basename(fullpath), img.shape[1], img.shape[0])\n",
    "    return (img, None, title)"
   ]
  },
  {
   "cell_type": "code",
   "execution_count": null,
   "metadata": {},
   "outputs": [],
   "source": [
    "def overlay_annots(ax, f, seq):\n",
    "    pass"
   ]
  },
  {
   "cell_type": "code",
   "execution_count": null,
   "metadata": {},
   "outputs": [],
   "source": [
    "f = videofig(len(labdf), redraw_fn, proc_func=lambda f: (my_draw(f, labdf)),\n",
    "         overlay_func = lambda ax,f: (overlay_annots(ax,f,labdf)), autostart=False)"
   ]
  }
 ],
 "metadata": {
  "kernelspec": {
   "display_name": "Python 2",
   "language": "python",
   "name": "python2"
  },
  "language_info": {
   "codemirror_mode": {
    "name": "ipython",
    "version": 2
   },
   "file_extension": ".py",
   "mimetype": "text/x-python",
   "name": "python",
   "nbconvert_exporter": "python",
   "pygments_lexer": "ipython2",
   "version": "2.7.10"
  }
 },
 "nbformat": 4,
 "nbformat_minor": 2
}
